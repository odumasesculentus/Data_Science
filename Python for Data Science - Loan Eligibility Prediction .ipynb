{
 "cells": [
  {
   "cell_type": "code",
   "execution_count": 34,
   "metadata": {},
   "outputs": [],
   "source": [
    "#import the required modules\n",
    "\n",
    "import numpy as np\n",
    "import pandas as pd\n",
    "import matplotlib.pyplot as plt\n",
    "from matplotlib import *\n",
    "style.use(\"ggplot\")\n",
    "%matplotlib inline\n",
    "from matplotlib.ticker import (MultipleLocator, AutoMinorLocator)\n",
    "import seaborn as sns\n",
    "\n",
    "from sklearn.preprocessing import LabelEncoder, StandardScaler\n",
    "from sklearn.utils import shuffle\n",
    "from sklearn.model_selection import train_test_split\n",
    "from sklearn.metrics import accuracy_score, confusion_matrix, classification_report\n",
    "from sklearn.metrics import plot_confusion_matrix, f1_score\n",
    "\n",
    "#The PolynomialFeatures will be used for feature creation to explore the nonlinear pattern of the numerical data.\n",
    "from sklearn.preprocessing import PolynomialFeatures\n",
    "#The Pipeline is used to package the feature creator and the classifier.\n",
    "from sklearn.pipeline import Pipeline\n",
    "\n",
    "\n",
    "# For feature creation\n",
    "# Degree 2 is used here but one can set the degree to be a hyperparameter to further explore the accuracy of the model\n",
    "poly = PolynomialFeatures(degree = 2)\n",
    "\n",
    "#importing the classifiers\n",
    "from sklearn.discriminant_analysis import QuadraticDiscriminantAnalysis\n",
    "from sklearn.ensemble import RandomForestClassifier\n",
    "from sklearn.ensemble import AdaBoostClassifier\n",
    "from sklearn.ensemble import BaggingClassifier\n",
    "from sklearn.gaussian_process import GaussianProcessClassifier\n",
    "from sklearn.gaussian_process.kernels import RBF\n",
    "from sklearn.naive_bayes import GaussianNB\n",
    "from sklearn.neighbors import KNeighborsClassifier\n",
    "from sklearn.neural_network import MLPClassifier\n",
    "from sklearn.svm import SVC\n",
    "from sklearn.tree import DecisionTreeClassifier\n",
    "from sklearn.linear_model import SGDClassifier\n",
    "from sklearn.linear_model import LogisticRegression\n",
    "from sklearn.linear_model import Perceptron\n",
    "\n",
    "#for combining multiple models into one \n",
    "from sklearn.ensemble import VotingClassifier"
   ]
  },
  {
   "cell_type": "code",
   "execution_count": 2,
   "metadata": {},
   "outputs": [],
   "source": [
    "#read the dataset \n",
    "#the data was saved on my computer, so you can edit the file path to suit you\n",
    "#this could be a url\n",
    "\n",
    "loan_train = pd.read_csv(\"/Users/apple/Documents/OPEN_UNIVERSITY/Data_for_DataScience/Loan-Eligibility-Prediction-Project/train.csv\")\n",
    "loan_test = pd.read_csv(\"/Users/apple/Documents/OPEN_UNIVERSITY/Data_for_DataScience/Loan-Eligibility-Prediction-Project/test.csv\")\n"
   ]
  },
  {
   "cell_type": "code",
   "execution_count": 3,
   "metadata": {},
   "outputs": [
    {
     "name": "stdout",
     "output_type": "stream",
     "text": [
      "(614, 13)\n"
     ]
    },
    {
     "data": {
      "text/html": [
       "<div>\n",
       "<style scoped>\n",
       "    .dataframe tbody tr th:only-of-type {\n",
       "        vertical-align: middle;\n",
       "    }\n",
       "\n",
       "    .dataframe tbody tr th {\n",
       "        vertical-align: top;\n",
       "    }\n",
       "\n",
       "    .dataframe thead th {\n",
       "        text-align: right;\n",
       "    }\n",
       "</style>\n",
       "<table border=\"1\" class=\"dataframe\">\n",
       "  <thead>\n",
       "    <tr style=\"text-align: right;\">\n",
       "      <th></th>\n",
       "      <th>Loan_ID</th>\n",
       "      <th>Gender</th>\n",
       "      <th>Married</th>\n",
       "      <th>Dependents</th>\n",
       "      <th>Education</th>\n",
       "      <th>Self_Employed</th>\n",
       "      <th>ApplicantIncome</th>\n",
       "      <th>CoapplicantIncome</th>\n",
       "      <th>LoanAmount</th>\n",
       "      <th>Loan_Amount_Term</th>\n",
       "      <th>Credit_History</th>\n",
       "      <th>Property_Area</th>\n",
       "      <th>Loan_Status</th>\n",
       "    </tr>\n",
       "  </thead>\n",
       "  <tbody>\n",
       "    <tr>\n",
       "      <th>0</th>\n",
       "      <td>LP001002</td>\n",
       "      <td>Male</td>\n",
       "      <td>No</td>\n",
       "      <td>0</td>\n",
       "      <td>Graduate</td>\n",
       "      <td>No</td>\n",
       "      <td>5849</td>\n",
       "      <td>0.0</td>\n",
       "      <td>NaN</td>\n",
       "      <td>360.0</td>\n",
       "      <td>1.0</td>\n",
       "      <td>Urban</td>\n",
       "      <td>Y</td>\n",
       "    </tr>\n",
       "    <tr>\n",
       "      <th>1</th>\n",
       "      <td>LP001003</td>\n",
       "      <td>Male</td>\n",
       "      <td>Yes</td>\n",
       "      <td>1</td>\n",
       "      <td>Graduate</td>\n",
       "      <td>No</td>\n",
       "      <td>4583</td>\n",
       "      <td>1508.0</td>\n",
       "      <td>128.0</td>\n",
       "      <td>360.0</td>\n",
       "      <td>1.0</td>\n",
       "      <td>Rural</td>\n",
       "      <td>N</td>\n",
       "    </tr>\n",
       "    <tr>\n",
       "      <th>2</th>\n",
       "      <td>LP001005</td>\n",
       "      <td>Male</td>\n",
       "      <td>Yes</td>\n",
       "      <td>0</td>\n",
       "      <td>Graduate</td>\n",
       "      <td>Yes</td>\n",
       "      <td>3000</td>\n",
       "      <td>0.0</td>\n",
       "      <td>66.0</td>\n",
       "      <td>360.0</td>\n",
       "      <td>1.0</td>\n",
       "      <td>Urban</td>\n",
       "      <td>Y</td>\n",
       "    </tr>\n",
       "    <tr>\n",
       "      <th>3</th>\n",
       "      <td>LP001006</td>\n",
       "      <td>Male</td>\n",
       "      <td>Yes</td>\n",
       "      <td>0</td>\n",
       "      <td>Not Graduate</td>\n",
       "      <td>No</td>\n",
       "      <td>2583</td>\n",
       "      <td>2358.0</td>\n",
       "      <td>120.0</td>\n",
       "      <td>360.0</td>\n",
       "      <td>1.0</td>\n",
       "      <td>Urban</td>\n",
       "      <td>Y</td>\n",
       "    </tr>\n",
       "    <tr>\n",
       "      <th>4</th>\n",
       "      <td>LP001008</td>\n",
       "      <td>Male</td>\n",
       "      <td>No</td>\n",
       "      <td>0</td>\n",
       "      <td>Graduate</td>\n",
       "      <td>No</td>\n",
       "      <td>6000</td>\n",
       "      <td>0.0</td>\n",
       "      <td>141.0</td>\n",
       "      <td>360.0</td>\n",
       "      <td>1.0</td>\n",
       "      <td>Urban</td>\n",
       "      <td>Y</td>\n",
       "    </tr>\n",
       "  </tbody>\n",
       "</table>\n",
       "</div>"
      ],
      "text/plain": [
       "    Loan_ID Gender Married Dependents     Education Self_Employed  \\\n",
       "0  LP001002   Male      No          0      Graduate            No   \n",
       "1  LP001003   Male     Yes          1      Graduate            No   \n",
       "2  LP001005   Male     Yes          0      Graduate           Yes   \n",
       "3  LP001006   Male     Yes          0  Not Graduate            No   \n",
       "4  LP001008   Male      No          0      Graduate            No   \n",
       "\n",
       "   ApplicantIncome  CoapplicantIncome  LoanAmount  Loan_Amount_Term  \\\n",
       "0             5849                0.0         NaN             360.0   \n",
       "1             4583             1508.0       128.0             360.0   \n",
       "2             3000                0.0        66.0             360.0   \n",
       "3             2583             2358.0       120.0             360.0   \n",
       "4             6000                0.0       141.0             360.0   \n",
       "\n",
       "   Credit_History Property_Area Loan_Status  \n",
       "0             1.0         Urban           Y  \n",
       "1             1.0         Rural           N  \n",
       "2             1.0         Urban           Y  \n",
       "3             1.0         Urban           Y  \n",
       "4             1.0         Urban           Y  "
      ]
     },
     "execution_count": 3,
     "metadata": {},
     "output_type": "execute_result"
    }
   ],
   "source": [
    "#set what the datasets look like\n",
    "print(loan_train.shape)\n",
    "loan_train.head()"
   ]
  },
  {
   "cell_type": "code",
   "execution_count": 4,
   "metadata": {},
   "outputs": [
    {
     "name": "stdout",
     "output_type": "stream",
     "text": [
      "(367, 12)\n"
     ]
    },
    {
     "data": {
      "text/html": [
       "<div>\n",
       "<style scoped>\n",
       "    .dataframe tbody tr th:only-of-type {\n",
       "        vertical-align: middle;\n",
       "    }\n",
       "\n",
       "    .dataframe tbody tr th {\n",
       "        vertical-align: top;\n",
       "    }\n",
       "\n",
       "    .dataframe thead th {\n",
       "        text-align: right;\n",
       "    }\n",
       "</style>\n",
       "<table border=\"1\" class=\"dataframe\">\n",
       "  <thead>\n",
       "    <tr style=\"text-align: right;\">\n",
       "      <th></th>\n",
       "      <th>Loan_ID</th>\n",
       "      <th>Gender</th>\n",
       "      <th>Married</th>\n",
       "      <th>Dependents</th>\n",
       "      <th>Education</th>\n",
       "      <th>Self_Employed</th>\n",
       "      <th>ApplicantIncome</th>\n",
       "      <th>CoapplicantIncome</th>\n",
       "      <th>LoanAmount</th>\n",
       "      <th>Loan_Amount_Term</th>\n",
       "      <th>Credit_History</th>\n",
       "      <th>Property_Area</th>\n",
       "    </tr>\n",
       "  </thead>\n",
       "  <tbody>\n",
       "    <tr>\n",
       "      <th>0</th>\n",
       "      <td>LP001015</td>\n",
       "      <td>Male</td>\n",
       "      <td>Yes</td>\n",
       "      <td>0</td>\n",
       "      <td>Graduate</td>\n",
       "      <td>No</td>\n",
       "      <td>5720</td>\n",
       "      <td>0</td>\n",
       "      <td>110.0</td>\n",
       "      <td>360.0</td>\n",
       "      <td>1.0</td>\n",
       "      <td>Urban</td>\n",
       "    </tr>\n",
       "    <tr>\n",
       "      <th>1</th>\n",
       "      <td>LP001022</td>\n",
       "      <td>Male</td>\n",
       "      <td>Yes</td>\n",
       "      <td>1</td>\n",
       "      <td>Graduate</td>\n",
       "      <td>No</td>\n",
       "      <td>3076</td>\n",
       "      <td>1500</td>\n",
       "      <td>126.0</td>\n",
       "      <td>360.0</td>\n",
       "      <td>1.0</td>\n",
       "      <td>Urban</td>\n",
       "    </tr>\n",
       "    <tr>\n",
       "      <th>2</th>\n",
       "      <td>LP001031</td>\n",
       "      <td>Male</td>\n",
       "      <td>Yes</td>\n",
       "      <td>2</td>\n",
       "      <td>Graduate</td>\n",
       "      <td>No</td>\n",
       "      <td>5000</td>\n",
       "      <td>1800</td>\n",
       "      <td>208.0</td>\n",
       "      <td>360.0</td>\n",
       "      <td>1.0</td>\n",
       "      <td>Urban</td>\n",
       "    </tr>\n",
       "    <tr>\n",
       "      <th>3</th>\n",
       "      <td>LP001035</td>\n",
       "      <td>Male</td>\n",
       "      <td>Yes</td>\n",
       "      <td>2</td>\n",
       "      <td>Graduate</td>\n",
       "      <td>No</td>\n",
       "      <td>2340</td>\n",
       "      <td>2546</td>\n",
       "      <td>100.0</td>\n",
       "      <td>360.0</td>\n",
       "      <td>NaN</td>\n",
       "      <td>Urban</td>\n",
       "    </tr>\n",
       "    <tr>\n",
       "      <th>4</th>\n",
       "      <td>LP001051</td>\n",
       "      <td>Male</td>\n",
       "      <td>No</td>\n",
       "      <td>0</td>\n",
       "      <td>Not Graduate</td>\n",
       "      <td>No</td>\n",
       "      <td>3276</td>\n",
       "      <td>0</td>\n",
       "      <td>78.0</td>\n",
       "      <td>360.0</td>\n",
       "      <td>1.0</td>\n",
       "      <td>Urban</td>\n",
       "    </tr>\n",
       "  </tbody>\n",
       "</table>\n",
       "</div>"
      ],
      "text/plain": [
       "    Loan_ID Gender Married Dependents     Education Self_Employed  \\\n",
       "0  LP001015   Male     Yes          0      Graduate            No   \n",
       "1  LP001022   Male     Yes          1      Graduate            No   \n",
       "2  LP001031   Male     Yes          2      Graduate            No   \n",
       "3  LP001035   Male     Yes          2      Graduate            No   \n",
       "4  LP001051   Male      No          0  Not Graduate            No   \n",
       "\n",
       "   ApplicantIncome  CoapplicantIncome  LoanAmount  Loan_Amount_Term  \\\n",
       "0             5720                  0       110.0             360.0   \n",
       "1             3076               1500       126.0             360.0   \n",
       "2             5000               1800       208.0             360.0   \n",
       "3             2340               2546       100.0             360.0   \n",
       "4             3276                  0        78.0             360.0   \n",
       "\n",
       "   Credit_History Property_Area  \n",
       "0             1.0         Urban  \n",
       "1             1.0         Urban  \n",
       "2             1.0         Urban  \n",
       "3             NaN         Urban  \n",
       "4             1.0         Urban  "
      ]
     },
     "execution_count": 4,
     "metadata": {},
     "output_type": "execute_result"
    }
   ],
   "source": [
    "print(loan_test.shape)\n",
    "loan_test.head()"
   ]
  },
  {
   "cell_type": "code",
   "execution_count": 5,
   "metadata": {},
   "outputs": [
    {
     "name": "stdout",
     "output_type": "stream",
     "text": [
      "<class 'pandas.core.frame.DataFrame'>\n",
      "RangeIndex: 614 entries, 0 to 613\n",
      "Data columns (total 13 columns):\n",
      " #   Column             Non-Null Count  Dtype  \n",
      "---  ------             --------------  -----  \n",
      " 0   Loan_ID            614 non-null    object \n",
      " 1   Gender             601 non-null    object \n",
      " 2   Married            611 non-null    object \n",
      " 3   Dependents         599 non-null    object \n",
      " 4   Education          614 non-null    object \n",
      " 5   Self_Employed      582 non-null    object \n",
      " 6   ApplicantIncome    614 non-null    int64  \n",
      " 7   CoapplicantIncome  614 non-null    float64\n",
      " 8   LoanAmount         592 non-null    float64\n",
      " 9   Loan_Amount_Term   600 non-null    float64\n",
      " 10  Credit_History     564 non-null    float64\n",
      " 11  Property_Area      614 non-null    object \n",
      " 12  Loan_Status        614 non-null    object \n",
      "dtypes: float64(4), int64(1), object(8)\n",
      "memory usage: 62.5+ KB\n",
      "None\n",
      "Loan_ID               0\n",
      "Gender               13\n",
      "Married               3\n",
      "Dependents           15\n",
      "Education             0\n",
      "Self_Employed        32\n",
      "ApplicantIncome       0\n",
      "CoapplicantIncome     0\n",
      "LoanAmount           22\n",
      "Loan_Amount_Term     14\n",
      "Credit_History       50\n",
      "Property_Area         0\n",
      "Loan_Status           0\n",
      "dtype: int64\n"
     ]
    }
   ],
   "source": [
    "# info about the datasets\n",
    "print(loan_train.info())\n",
    "print(loan_train.isnull().sum())"
   ]
  },
  {
   "cell_type": "code",
   "execution_count": 6,
   "metadata": {},
   "outputs": [
    {
     "name": "stdout",
     "output_type": "stream",
     "text": [
      "<class 'pandas.core.frame.DataFrame'>\n",
      "RangeIndex: 367 entries, 0 to 366\n",
      "Data columns (total 12 columns):\n",
      " #   Column             Non-Null Count  Dtype  \n",
      "---  ------             --------------  -----  \n",
      " 0   Loan_ID            367 non-null    object \n",
      " 1   Gender             356 non-null    object \n",
      " 2   Married            367 non-null    object \n",
      " 3   Dependents         357 non-null    object \n",
      " 4   Education          367 non-null    object \n",
      " 5   Self_Employed      344 non-null    object \n",
      " 6   ApplicantIncome    367 non-null    int64  \n",
      " 7   CoapplicantIncome  367 non-null    int64  \n",
      " 8   LoanAmount         362 non-null    float64\n",
      " 9   Loan_Amount_Term   361 non-null    float64\n",
      " 10  Credit_History     338 non-null    float64\n",
      " 11  Property_Area      367 non-null    object \n",
      "dtypes: float64(3), int64(2), object(7)\n",
      "memory usage: 34.5+ KB\n",
      "None\n",
      "Loan_ID               0\n",
      "Gender               11\n",
      "Married               0\n",
      "Dependents           10\n",
      "Education             0\n",
      "Self_Employed        23\n",
      "ApplicantIncome       0\n",
      "CoapplicantIncome     0\n",
      "LoanAmount            5\n",
      "Loan_Amount_Term      6\n",
      "Credit_History       29\n",
      "Property_Area         0\n",
      "dtype: int64\n"
     ]
    }
   ],
   "source": [
    "print(loan_test.info())\n",
    "print(loan_test.isnull().sum())"
   ]
  },
  {
   "cell_type": "markdown",
   "metadata": {},
   "source": [
    "#One would notice that the test.csv data does not contain the loan status column. The implication of this is that one would not be able to evaluate the accuracy of the models from the data. Hence, only the train.csv data would be used for this project."
   ]
  },
  {
   "cell_type": "markdown",
   "metadata": {},
   "source": [
    "# Data Analysis "
   ]
  },
  {
   "cell_type": "code",
   "execution_count": 7,
   "metadata": {},
   "outputs": [
    {
     "data": {
      "text/plain": [
       "Text(0.5, 1.0, 'Self-employed count')"
      ]
     },
     "execution_count": 7,
     "metadata": {},
     "output_type": "execute_result"
    },
    {
     "data": {
      "image/png": "[encoded data removed]",
      "text/plain": [
       "<Figure size 720x360 with 3 Axes>"
      ]
     },
     "metadata": {
      "needs_background": "light"
     },
     "output_type": "display_data"
    }
   ],
   "source": [
    "#Some analysis of the data is done to check the dependence of the feature variables to the label variable\n",
    "plt.rcParams['figure.figsize'] = (10.0, 5.0)\n",
    "fig, ax = plt.subplots(nrows = 1, ncols = 3)\n",
    "sns.countplot(ax = ax[0], x = loan_train[\"Loan_Status\"])\n",
    "ax[0].set_title(\"Loan Status count\")\n",
    "sns.countplot(ax = ax[1], x = loan_train[\"Gender\"])\n",
    "ax[1].set_title(\"Gender count\")\n",
    "sns.countplot(ax = ax[2], x = loan_train[\"Self_Employed\"])\n",
    "ax[2].set_title(\"Self-employed count\")"
   ]
  },
  {
   "cell_type": "code",
   "execution_count": 8,
   "metadata": {},
   "outputs": [
    {
     "data": {
      "image/png": "[encoded data removed]",
      "text/plain": [
       "<Figure size 1080x720 with 6 Axes>"
      ]
     },
     "metadata": {
      "needs_background": "light"
     },
     "output_type": "display_data"
    }
   ],
   "source": [
    "#checking dependencies\n",
    "plt.rcParams['figure.figsize'] = (15.0, 10.0)\n",
    "fig, ax = plt.subplots(nrows = 2, ncols = 3)\n",
    "sns.countplot(ax = ax[0,0], x = \"Loan_Status\", hue = \"Married\", data = loan_train)\n",
    "#for minor ticks\n",
    "ax[0,0].yaxis.set_minor_locator(MultipleLocator(10))\n",
    "sns.countplot(ax = ax[0,1], x = \"Loan_Status\", hue = \"Gender\", data = loan_train)\n",
    "ax[0,1].yaxis.set_minor_locator(MultipleLocator(10))\n",
    "sns.countplot(ax = ax[0,2], x = \"Loan_Status\", hue = \"Education\", data = loan_train)\n",
    "ax[0,2].yaxis.set_minor_locator(MultipleLocator(10))\n",
    "sns.countplot(ax = ax[1,0], x = \"Loan_Status\", hue = \"Property_Area\", data = loan_train)\n",
    "ax[1,0].yaxis.set_minor_locator(MultipleLocator(5))\n",
    "sns.countplot(ax = ax[1,1], x = \"Loan_Status\", hue = \"Dependents\", data = loan_train)\n",
    "ax[1,1].yaxis.set_minor_locator(MultipleLocator(10))\n",
    "sns.countplot(ax = ax[1,2], x = \"Loan_Status\", hue = \"Credit_History\", data = loan_train)\n",
    "ax[1,2].yaxis.set_minor_locator(MultipleLocator(10))\n",
    "plt.show()\n",
    "\n"
   ]
  },
  {
   "cell_type": "markdown",
   "metadata": {},
   "source": [
    "From the charts above, \n",
    "\n",
    "  - about 59% of the unmarried people are not eligible to get a loan while only about 42% of the married people are eligible. Hence, one is more likely to get a loan if the person is married.\n",
    "  \n",
    "  - about 43% of the female gender was rejected loan while about 44% of the male gender was rejected loan. Hence, one can say that the loan eligibility does not necessarily depend on the person's gender.   \n",
    "  \n",
    "  - about 63% of the non-graduates are not eligible to get a loan while only about 41% of the graduates are eligible. Hence, a non-graduate is less likely to be eligible for a loan.\n",
    "  \n",
    "  - one is more likely to get a loan if the property is in a semiurban area giving that about 39%, 34% and 23% of the people whose properties are in the rural, urban and semiurban areas respectively are not eligible for a loan,\n",
    "  \n",
    "  - the number of people with or without dependent that are not eligible for a loan are as follows:  0: 45%, 1:35%, 2:26%, and 3+: 40%. Hence, one can say that a person is more likely to be eligible for a loan if he/she has 1 or 2 dependents. \n",
    " \n",
    "  - one is more less likely to be eligible for a loan if their credit history is bad"
   ]
  },
  {
   "cell_type": "code",
   "execution_count": 9,
   "metadata": {},
   "outputs": [
    {
     "data": {
      "image/png": "[encoded data removed]",
      "text/plain": [
       "<Figure size 1080x720 with 6 Axes>"
      ]
     },
     "metadata": {
      "needs_background": "light"
     },
     "output_type": "display_data"
    },
    {
     "name": "stdout",
     "output_type": "stream",
     "text": [
      "   \n",
      "Mean Applicant Income  =  5403.459283387622\n",
      "Mean Co-applicant Income  =  1621.245798027101\n",
      "Mean Loan Amount  =  146.41216216216216\n",
      "Mean Loan Amount Term  =  342.0\n"
     ]
    }
   ],
   "source": [
    "#The distribution of the applicant's income\n",
    "plt.rcParams['figure.figsize'] = (15.0, 10.0)\n",
    "figs, ax = plt.subplots(nrows = 2, ncols = 3)\n",
    "loan_train['ApplicantIncome'].plot.hist(ax = ax[0,0], title = 'Applicant Income')\n",
    "ax[0,0].yaxis.set_minor_locator(MultipleLocator(20))\n",
    "ax[0,0].xaxis.set_minor_locator(MultipleLocator(5000))\n",
    "\n",
    "loan_train['CoapplicantIncome'].plot.hist(ax = ax[0,1], title = 'Co-applicant Income')\n",
    "ax[0,1].yaxis.set_minor_locator(MultipleLocator(20))\n",
    "ax[0,1].xaxis.set_minor_locator(MultipleLocator(5000))\n",
    "\n",
    "\n",
    "loan_train['LoanAmount'].plot.hist(ax = ax[0,2], title = 'Loan Amount')\n",
    "ax[0,2].yaxis.set_minor_locator(MultipleLocator(10))\n",
    "ax[0,2].xaxis.set_minor_locator(MultipleLocator(20))\n",
    "\n",
    "loan_train['Loan_Amount_Term'].plot.hist(ax = ax[1,0], title = 'Loan Amount Term')\n",
    "ax[1,0].yaxis.set_minor_locator(MultipleLocator(20))\n",
    "ax[1,0].xaxis.set_minor_locator(MultipleLocator(20))\n",
    "\n",
    "ax[1,1].scatter(loan_train['ApplicantIncome'], loan_train['Loan_Status'])\n",
    "ax[1,1].set_title('Applicant Income')\n",
    "ax[1,1].xaxis.set_minor_locator(MultipleLocator(2000))\n",
    "\n",
    "ax[1,2].scatter( x = loan_train['CoapplicantIncome'], y = loan_train['Loan_Status'])\n",
    "ax[1,2].set_title('Co-applicant Income')\n",
    "ax[1,2].xaxis.set_minor_locator(MultipleLocator(2000))\n",
    "\n",
    "plt.show()\n",
    "print(\"   \")\n",
    "print('Mean Applicant Income  = ', np.mean(loan_train['ApplicantIncome']))\n",
    "print('Mean Co-applicant Income  = ', np.mean(loan_train['CoapplicantIncome']))\n",
    "print('Mean Loan Amount  = ', np.mean(loan_train['LoanAmount']))\n",
    "print('Mean Loan Amount Term  = ', np.mean(loan_train['Loan_Amount_Term']))\n"
   ]
  },
  {
   "cell_type": "markdown",
   "metadata": {},
   "source": [
    "# Data Wrangling"
   ]
  },
  {
   "cell_type": "code",
   "execution_count": 10,
   "metadata": {},
   "outputs": [
    {
     "data": {
      "text/plain": [
       "<AxesSubplot:>"
      ]
     },
     "execution_count": 10,
     "metadata": {},
     "output_type": "execute_result"
    },
    {
     "data": {
      "image/png": "[encoded data removed]",
      "text/plain": [
       "<Figure size 1080x720 with 2 Axes>"
      ]
     },
     "metadata": {
      "needs_background": "light"
     },
     "output_type": "display_data"
    }
   ],
   "source": [
    "#get rid of all the null values in the data\n",
    "\n",
    "   #first the heat map for the null values\n",
    "sns.heatmap(loan_train.isnull(), cmap=\"viridis\")"
   ]
  },
  {
   "cell_type": "code",
   "execution_count": 11,
   "metadata": {},
   "outputs": [
    {
     "data": {
      "text/plain": [
       "<AxesSubplot:>"
      ]
     },
     "execution_count": 11,
     "metadata": {},
     "output_type": "execute_result"
    },
    {
     "data": {
      "image/png": "[encoded data removed]",
      "text/plain": [
       "<Figure size 1080x720 with 1 Axes>"
      ]
     },
     "metadata": {
      "needs_background": "light"
     },
     "output_type": "display_data"
    }
   ],
   "source": [
    "#now remove all the null values\n",
    "loan_train.dropna(inplace = True)\n",
    "\n",
    "#check the heatmap again\n",
    "sns.heatmap(loan_train.isnull(), cmap=\"viridis\", cbar = False)"
   ]
  },
  {
   "cell_type": "code",
   "execution_count": 12,
   "metadata": {},
   "outputs": [
    {
     "name": "stdout",
     "output_type": "stream",
     "text": [
      "Loan_ID              0\n",
      "Gender               0\n",
      "Married              0\n",
      "Dependents           0\n",
      "Education            0\n",
      "Self_Employed        0\n",
      "ApplicantIncome      0\n",
      "CoapplicantIncome    0\n",
      "LoanAmount           0\n",
      "Loan_Amount_Term     0\n",
      "Credit_History       0\n",
      "Property_Area        0\n",
      "Loan_Status          0\n",
      "dtype: int64\n",
      "(480, 13)\n"
     ]
    }
   ],
   "source": [
    "#or you can print out the isnull count\n",
    "print(loan_train.isnull().sum())\n",
    "print(loan_train.shape)"
   ]
  },
  {
   "cell_type": "markdown",
   "metadata": {},
   "source": [
    "# Data Preprocessing"
   ]
  },
  {
   "cell_type": "code",
   "execution_count": 13,
   "metadata": {},
   "outputs": [],
   "source": [
    "#the Loan_ID column is not needed, so it is dropped\n",
    "loan_train.drop(\"Loan_ID\", axis = 1, inplace = True)"
   ]
  },
  {
   "cell_type": "code",
   "execution_count": 14,
   "metadata": {},
   "outputs": [
    {
     "data": {
      "text/plain": [
       "1    394\n",
       "0     86\n",
       "Name: Male_Gender, dtype: int64"
      ]
     },
     "execution_count": 14,
     "metadata": {},
     "output_type": "execute_result"
    }
   ],
   "source": [
    "#encode the string values in the necessary column\n",
    "encoder  = LabelEncoder()\n",
    "\n",
    "#THE GENDER COLUMN: Female = 0, Male  = 1\n",
    "loan_train[\"Gender\"] = encoder.fit_transform(loan_train[\"Gender\"])\n",
    "loan_train = loan_train.rename(columns = {\"Gender\":\"Male_Gender\"})\n",
    "loan_train[\"Male_Gender\"].value_counts()"
   ]
  },
  {
   "cell_type": "code",
   "execution_count": 15,
   "metadata": {},
   "outputs": [
    {
     "data": {
      "text/plain": [
       "1    311\n",
       "0    169\n",
       "Name: Married, dtype: int64"
      ]
     },
     "execution_count": 15,
     "metadata": {},
     "output_type": "execute_result"
    }
   ],
   "source": [
    "#THE MARRIED COLUMN: Yes = 1, No = 0\n",
    "loan_train[\"Married\"] = encoder.fit_transform(loan_train[\"Married\"])\n",
    "loan_train[\"Married\"].value_counts()"
   ]
  },
  {
   "cell_type": "code",
   "execution_count": 16,
   "metadata": {},
   "outputs": [
    {
     "data": {
      "text/plain": [
       "0    383\n",
       "1     97\n",
       "Name: Not_Graduate, dtype: int64"
      ]
     },
     "execution_count": 16,
     "metadata": {},
     "output_type": "execute_result"
    }
   ],
   "source": [
    "#THE EDUCATION COLUMN: Graduate = 0, Not Graduate  = 1\n",
    "loan_train[\"Education\"] = encoder.fit_transform(loan_train[\"Education\"])\n",
    "loan_train = loan_train.rename(columns = {\"Education\":\"Not_Graduate\"})\n",
    "loan_train[\"Not_Graduate\"].value_counts()"
   ]
  },
  {
   "cell_type": "code",
   "execution_count": 17,
   "metadata": {},
   "outputs": [
    {
     "data": {
      "text/plain": [
       "0    414\n",
       "1     66\n",
       "Name: Self_Employed, dtype: int64"
      ]
     },
     "execution_count": 17,
     "metadata": {},
     "output_type": "execute_result"
    }
   ],
   "source": [
    "#THE SELF-ENPMPLOYED COLUMN: No = 1, Yes = 0\n",
    "loan_train[\"Self_Employed\"] = encoder.fit_transform(loan_train[\"Self_Employed\"])\n",
    "loan_train[\"Self_Employed\"].value_counts()"
   ]
  },
  {
   "cell_type": "code",
   "execution_count": 18,
   "metadata": {},
   "outputs": [
    {
     "data": {
      "text/plain": [
       "1    332\n",
       "0    148\n",
       "Name: Loan_Status, dtype: int64"
      ]
     },
     "execution_count": 18,
     "metadata": {},
     "output_type": "execute_result"
    }
   ],
   "source": [
    "#THE SELF-ENPMPLOYED COLUMN: No = 0, Yes = 1\n",
    "loan_train[\"Loan_Status\"] = encoder.fit_transform(loan_train[\"Loan_Status\"])\n",
    "loan_train[\"Loan_Status\"].value_counts()"
   ]
  },
  {
   "cell_type": "code",
   "execution_count": 19,
   "metadata": {},
   "outputs": [
    {
     "name": "stdout",
     "output_type": "stream",
     "text": [
      "   Semiurban  Urban\n",
      "1          0      0\n",
      "2          0      1\n",
      "3          0      1\n",
      "4          0      1\n",
      "5          0      1\n"
     ]
    }
   ],
   "source": [
    "#THE PROPERTY AREA COLUMN\n",
    "#This column has a multivalued. So, one can either use get_dummies or one-hot-encoder\n",
    "\n",
    "property_area = pd.get_dummies(loan_train[\"Property_Area\"], drop_first = True)\n",
    "print(property_area.head())\n"
   ]
  },
  {
   "cell_type": "code",
   "execution_count": 20,
   "metadata": {},
   "outputs": [
    {
     "name": "stdout",
     "output_type": "stream",
     "text": [
      "   0  1  2  3+\n",
      "1  0  1  0   0\n",
      "2  1  0  0   0\n",
      "3  1  0  0   0\n",
      "4  1  0  0   0\n",
      "5  0  0  1   0\n"
     ]
    }
   ],
   "source": [
    "#THE DEPENDENT COLUMN: This is also multivalued\n",
    "dependents_ = pd.get_dummies(loan_train[\"Dependents\"])\n",
    "print(dependents_.head())"
   ]
  },
  {
   "cell_type": "code",
   "execution_count": 21,
   "metadata": {},
   "outputs": [
    {
     "data": {
      "text/html": [
       "<div>\n",
       "<style scoped>\n",
       "    .dataframe tbody tr th:only-of-type {\n",
       "        vertical-align: middle;\n",
       "    }\n",
       "\n",
       "    .dataframe tbody tr th {\n",
       "        vertical-align: top;\n",
       "    }\n",
       "\n",
       "    .dataframe thead th {\n",
       "        text-align: right;\n",
       "    }\n",
       "</style>\n",
       "<table border=\"1\" class=\"dataframe\">\n",
       "  <thead>\n",
       "    <tr style=\"text-align: right;\">\n",
       "      <th></th>\n",
       "      <th>Male_Gender</th>\n",
       "      <th>Married</th>\n",
       "      <th>Not_Graduate</th>\n",
       "      <th>Self_Employed</th>\n",
       "      <th>ApplicantIncome</th>\n",
       "      <th>CoapplicantIncome</th>\n",
       "      <th>LoanAmount</th>\n",
       "      <th>Loan_Amount_Term</th>\n",
       "      <th>Credit_History</th>\n",
       "      <th>Loan_Status</th>\n",
       "      <th>Semiurban</th>\n",
       "      <th>Urban</th>\n",
       "      <th>0_dependent</th>\n",
       "      <th>1_dependent</th>\n",
       "      <th>2_dependents</th>\n",
       "    </tr>\n",
       "  </thead>\n",
       "  <tbody>\n",
       "    <tr>\n",
       "      <th>1</th>\n",
       "      <td>1</td>\n",
       "      <td>1</td>\n",
       "      <td>0</td>\n",
       "      <td>0</td>\n",
       "      <td>4583</td>\n",
       "      <td>1508.0</td>\n",
       "      <td>128.0</td>\n",
       "      <td>360.0</td>\n",
       "      <td>1.0</td>\n",
       "      <td>0</td>\n",
       "      <td>0</td>\n",
       "      <td>0</td>\n",
       "      <td>0</td>\n",
       "      <td>1</td>\n",
       "      <td>0</td>\n",
       "    </tr>\n",
       "    <tr>\n",
       "      <th>2</th>\n",
       "      <td>1</td>\n",
       "      <td>1</td>\n",
       "      <td>0</td>\n",
       "      <td>1</td>\n",
       "      <td>3000</td>\n",
       "      <td>0.0</td>\n",
       "      <td>66.0</td>\n",
       "      <td>360.0</td>\n",
       "      <td>1.0</td>\n",
       "      <td>1</td>\n",
       "      <td>0</td>\n",
       "      <td>1</td>\n",
       "      <td>1</td>\n",
       "      <td>0</td>\n",
       "      <td>0</td>\n",
       "    </tr>\n",
       "    <tr>\n",
       "      <th>3</th>\n",
       "      <td>1</td>\n",
       "      <td>1</td>\n",
       "      <td>1</td>\n",
       "      <td>0</td>\n",
       "      <td>2583</td>\n",
       "      <td>2358.0</td>\n",
       "      <td>120.0</td>\n",
       "      <td>360.0</td>\n",
       "      <td>1.0</td>\n",
       "      <td>1</td>\n",
       "      <td>0</td>\n",
       "      <td>1</td>\n",
       "      <td>1</td>\n",
       "      <td>0</td>\n",
       "      <td>0</td>\n",
       "    </tr>\n",
       "    <tr>\n",
       "      <th>4</th>\n",
       "      <td>1</td>\n",
       "      <td>0</td>\n",
       "      <td>0</td>\n",
       "      <td>0</td>\n",
       "      <td>6000</td>\n",
       "      <td>0.0</td>\n",
       "      <td>141.0</td>\n",
       "      <td>360.0</td>\n",
       "      <td>1.0</td>\n",
       "      <td>1</td>\n",
       "      <td>0</td>\n",
       "      <td>1</td>\n",
       "      <td>1</td>\n",
       "      <td>0</td>\n",
       "      <td>0</td>\n",
       "    </tr>\n",
       "    <tr>\n",
       "      <th>5</th>\n",
       "      <td>1</td>\n",
       "      <td>1</td>\n",
       "      <td>0</td>\n",
       "      <td>1</td>\n",
       "      <td>5417</td>\n",
       "      <td>4196.0</td>\n",
       "      <td>267.0</td>\n",
       "      <td>360.0</td>\n",
       "      <td>1.0</td>\n",
       "      <td>1</td>\n",
       "      <td>0</td>\n",
       "      <td>1</td>\n",
       "      <td>0</td>\n",
       "      <td>0</td>\n",
       "      <td>1</td>\n",
       "    </tr>\n",
       "  </tbody>\n",
       "</table>\n",
       "</div>"
      ],
      "text/plain": [
       "   Male_Gender  Married  Not_Graduate  Self_Employed  ApplicantIncome  \\\n",
       "1            1        1             0              0             4583   \n",
       "2            1        1             0              1             3000   \n",
       "3            1        1             1              0             2583   \n",
       "4            1        0             0              0             6000   \n",
       "5            1        1             0              1             5417   \n",
       "\n",
       "   CoapplicantIncome  LoanAmount  Loan_Amount_Term  Credit_History  \\\n",
       "1             1508.0       128.0             360.0             1.0   \n",
       "2                0.0        66.0             360.0             1.0   \n",
       "3             2358.0       120.0             360.0             1.0   \n",
       "4                0.0       141.0             360.0             1.0   \n",
       "5             4196.0       267.0             360.0             1.0   \n",
       "\n",
       "   Loan_Status  Semiurban  Urban  0_dependent  1_dependent  2_dependents  \n",
       "1            0          0      0            0            1             0  \n",
       "2            1          0      1            1            0             0  \n",
       "3            1          0      1            1            0             0  \n",
       "4            1          0      1            1            0             0  \n",
       "5            1          0      1            0            0             1  "
      ]
     },
     "execution_count": 21,
     "metadata": {},
     "output_type": "execute_result"
    }
   ],
   "source": [
    "#one can then concatenate this with the main data\n",
    "loan_train = pd.concat([loan_train, property_area, dependents_], axis = 1)\n",
    "\n",
    "#drop the previous property area, dependents and the 3+ columns\n",
    "loan_train.drop([\"Property_Area\", \"Dependents\", \"3+\" ], axis = 1, inplace = True)\n",
    "loan_train = loan_train.rename(columns = {\"0\":\"0_dependent\", \"1\":\"1_dependent\", \"2\":\"2_dependents\"})\n",
    "loan_train.head()"
   ]
  },
  {
   "cell_type": "markdown",
   "metadata": {},
   "source": [
    "# Data Splitting"
   ]
  },
  {
   "cell_type": "code",
   "execution_count": 22,
   "metadata": {},
   "outputs": [],
   "source": [
    "#split the data into features and labels\n",
    "x = loan_train.drop([\"Loan_Status\"], axis = 1)\n",
    "y = loan_train[\"Loan_Status\"]\n",
    "\n",
    "#split the data into training and testing dataset\n",
    "X_train, X_test, y_train, y_test = train_test_split(x,y, test_size = 0.25, random_state = 20)"
   ]
  },
  {
   "cell_type": "code",
   "execution_count": 23,
   "metadata": {},
   "outputs": [],
   "source": [
    "#scale the data due to large range of of the distribution\n",
    "sc = StandardScaler()\n",
    "X_train = sc.fit_transform(X_train)\n",
    "X_test = sc.transform(X_test)"
   ]
  },
  {
   "cell_type": "markdown",
   "metadata": {},
   "source": [
    "# Employing the models"
   ]
  },
  {
   "cell_type": "code",
   "execution_count": 24,
   "metadata": {},
   "outputs": [],
   "source": [
    "#Keep all the classifiers in a list so that the testing and training can be done once and for all\n",
    "#then one can choose the one with the best accuracy\n",
    "classifiers_ = [\n",
    "    (\"AdaBoost\", AdaBoostClassifier()),\n",
    "    (\"Decision Tree\", DecisionTreeClassifier(max_depth=3)),\n",
    "    (\"Gaussian Process\", GaussianProcessClassifier(1.0 * RBF(1.0))),\n",
    "    (\"Linear SVM\", SVC(kernel=\"linear\", C=0.025,probability=True)),\n",
    "    (\"Naive Bayes\",GaussianNB()),\n",
    "    (\"Nearest Neighbors\",KNeighborsClassifier(3)),\n",
    "    (\"Neural Net\",MLPClassifier(alpha=1)),\n",
    "    (\"QDA\", QuadraticDiscriminantAnalysis()),\n",
    "    (\"Random Forest\",RandomForestClassifier(n_jobs=2, random_state=1)),\n",
    "    (\"RBF SVM\",SVC(gamma=2, C=1,probability=True)),\n",
    "    (\"SGDClassifier\", SGDClassifier(max_iter=1000, tol=10e-3,penalty='elasticnet')),\n",
    "    (\"LogisticRegression\", LogisticRegression()), \n",
    "    (\"Perceptron\", Perceptron(tol=1e-3, random_state=0)), \n",
    "    (\"BaggingClassifier\", BaggingClassifier(base_estimator=SVC(), n_estimators=10, random_state=0))\n",
    "    ] "
   ]
  },
  {
   "cell_type": "code",
   "execution_count": 25,
   "metadata": {},
   "outputs": [
    {
     "name": "stdout",
     "output_type": "stream",
     "text": [
      "n =  AdaBoost  and clf =  AdaBoostClassifier()\n",
      "n =  Decision Tree  and clf =  DecisionTreeClassifier(max_depth=3)\n",
      "n =  Gaussian Process  and clf =  GaussianProcessClassifier(kernel=1**2 * RBF(length_scale=1))\n",
      "n =  Linear SVM  and clf =  SVC(C=0.025, kernel='linear', probability=True)\n",
      "n =  Naive Bayes  and clf =  GaussianNB()\n",
      "n =  Nearest Neighbors  and clf =  KNeighborsClassifier(n_neighbors=3)\n",
      "n =  Neural Net  and clf =  MLPClassifier(alpha=1)\n",
      "n =  QDA  and clf =  QuadraticDiscriminantAnalysis()\n",
      "n =  Random Forest  and clf =  RandomForestClassifier(n_jobs=2, random_state=1)\n",
      "n =  RBF SVM  and clf =  SVC(C=1, gamma=2, probability=True)\n",
      "n =  SGDClassifier  and clf =  SGDClassifier(penalty='elasticnet', tol=0.01)\n",
      "n =  LogisticRegression  and clf =  LogisticRegression()\n",
      "n =  Perceptron  and clf =  Perceptron()\n",
      "n =  BaggingClassifier  and clf =  BaggingClassifier(base_estimator=SVC(), random_state=0)\n"
     ]
    }
   ],
   "source": [
    "for n,clf in classifiers_:\n",
    "    print(\"n = \",n, \" and clf = \", clf)"
   ]
  },
  {
   "cell_type": "code",
   "execution_count": 26,
   "metadata": {},
   "outputs": [
    {
     "name": "stdout",
     "output_type": "stream",
     "text": [
      "0 : AdaBoost training done! \n",
      " \n",
      "AdaBoost training score done!\n",
      "AdaBoost testing score done!\n",
      "-------------------------------------------------------\n",
      "  \n",
      "1 : Decision Tree training done! \n",
      " \n",
      "Decision Tree training score done!\n",
      "Decision Tree testing score done!\n",
      "-------------------------------------------------------\n",
      "  \n",
      "2 : Gaussian Process training done! \n",
      " \n",
      "Gaussian Process training score done!\n",
      "Gaussian Process testing score done!\n",
      "-------------------------------------------------------\n",
      "  \n",
      "3 : Linear SVM training done! \n",
      " \n",
      "Linear SVM training score done!\n",
      "Linear SVM testing score done!\n",
      "-------------------------------------------------------\n",
      "  \n",
      "4 : Naive Bayes training done! \n",
      " \n",
      "Naive Bayes training score done!\n",
      "Naive Bayes testing score done!\n",
      "-------------------------------------------------------\n",
      "  \n",
      "5 : Nearest Neighbors training done! \n",
      " \n",
      "Nearest Neighbors training score done!\n",
      "Nearest Neighbors testing score done!\n",
      "-------------------------------------------------------\n",
      "  \n"
     ]
    },
    {
     "name": "stderr",
     "output_type": "stream",
     "text": [
      "/Users/apple/opt/anaconda3/lib/python3.8/site-packages/sklearn/neural_network/_multilayer_perceptron.py:582: ConvergenceWarning: Stochastic Optimizer: Maximum iterations (200) reached and the optimization hasn't converged yet.\n",
      "  warnings.warn(\n",
      "/Users/apple/opt/anaconda3/lib/python3.8/site-packages/sklearn/discriminant_analysis.py:715: UserWarning: Variables are collinear\n",
      "  warnings.warn(\"Variables are collinear\")\n"
     ]
    },
    {
     "name": "stdout",
     "output_type": "stream",
     "text": [
      "6 : Neural Net training done! \n",
      " \n",
      "Neural Net training score done!\n",
      "Neural Net testing score done!\n",
      "-------------------------------------------------------\n",
      "  \n",
      "7 : QDA training done! \n",
      " \n",
      "QDA training score done!\n",
      "QDA testing score done!\n",
      "-------------------------------------------------------\n",
      "  \n",
      "8 : Random Forest training done! \n",
      " \n",
      "Random Forest training score done!\n",
      "Random Forest testing score done!\n",
      "-------------------------------------------------------\n",
      "  \n",
      "9 : RBF SVM training done! \n",
      " \n",
      "RBF SVM training score done!\n",
      "RBF SVM testing score done!\n",
      "-------------------------------------------------------\n",
      "  \n",
      "10 : SGDClassifier training done! \n",
      " \n",
      "SGDClassifier training score done!\n",
      "SGDClassifier testing score done!\n",
      "-------------------------------------------------------\n",
      "  \n",
      "11 : LogisticRegression training done! \n",
      " \n",
      "LogisticRegression training score done!\n",
      "LogisticRegression testing score done!\n",
      "-------------------------------------------------------\n",
      "  \n",
      "12 : Perceptron training done! \n",
      " \n",
      "Perceptron training score done!\n",
      "Perceptron testing score done!\n",
      "-------------------------------------------------------\n",
      "  \n",
      "13 : BaggingClassifier training done! \n",
      " \n"
     ]
    },
    {
     "name": "stderr",
     "output_type": "stream",
     "text": [
      "/Users/apple/opt/anaconda3/lib/python3.8/site-packages/sklearn/linear_model/_logistic.py:762: ConvergenceWarning: lbfgs failed to converge (status=1):\n",
      "STOP: TOTAL NO. of ITERATIONS REACHED LIMIT.\n",
      "\n",
      "Increase the number of iterations (max_iter) or scale the data as shown in:\n",
      "    https://scikit-learn.org/stable/modules/preprocessing.html\n",
      "Please also refer to the documentation for alternative solver options:\n",
      "    https://scikit-learn.org/stable/modules/linear_model.html#logistic-regression\n",
      "  n_iter_i = _check_optimize_result(\n"
     ]
    },
    {
     "name": "stdout",
     "output_type": "stream",
     "text": [
      "BaggingClassifier training score done!\n",
      "BaggingClassifier testing score done!\n",
      "-------------------------------------------------------\n",
      "  \n",
      "Names:  ['AdaBoost', 'Decision Tree', 'Gaussian Process', 'Linear SVM', 'Naive Bayes', 'Nearest Neighbors', 'Neural Net', 'QDA', 'Random Forest', 'RBF SVM', 'SGDClassifier', 'LogisticRegression', 'Perceptron', 'BaggingClassifier']\n",
      "Predict Sum:  [85, 89, 90, 85, 85, 82, 75, 92, 83, 118, 74, 79, 71, 87]\n",
      "Train Scores:  [0.936, 0.811, 0.825, 0.844, 0.8, 0.839, 0.947, 0.839, 1.0, 0.989, 0.836, 0.878, 0.842, 0.825]\n",
      "Test Scores:  [0.775, 0.825, 0.817, 0.792, 0.792, 0.8, 0.692, 0.85, 0.792, 0.667, 0.7, 0.742, 0.658, 0.875]\n",
      "Accuracy Scores:  [0.775, 0.825, 0.817, 0.792, 0.792, 0.8, 0.692, 0.85, 0.792, 0.667, 0.7, 0.742, 0.658, 0.875]\n",
      "Test F1 Scores:  [0.838, 0.877, 0.872, 0.85, 0.85, 0.854, 0.764, 0.897, 0.848, 0.8, 0.769, 0.807, 0.732, 0.911]\n"
     ]
    }
   ],
   "source": [
    "#use each Classifier to take its training results.\n",
    "clf_names = []\n",
    "train_scores = []\n",
    "test_scores = []\n",
    "accuracy_scores = []\n",
    "predict_sums = []\n",
    "test_f1score = []\n",
    "i = 0\n",
    "for n,clf in classifiers_:\n",
    "    clf_names.append(n)\n",
    "    # Model declaration with pipeline\n",
    "    clf = Pipeline([('POLY', poly),('CLF',clf)])\n",
    "    \n",
    "    # Model training\n",
    "    clf.fit(X_train, y_train)\n",
    "    print(i, \":\",  n+\" training done! \\n \")\n",
    "    \n",
    "    # The prediction\n",
    "    clf.predict(X_test)\n",
    "    predict_sums.append(clf.predict(X_test).sum()) #this gives the number of mines the classifier predicted\n",
    "        #you can print the classification report and confusion matrix if you like\n",
    "    #print(classification_report(y_test, clf.predict(X_test)))\n",
    "    #print(confusion_matrix(y_test, clf.predict(X_test)))\n",
    "    \n",
    "    #you can also plot the confussion matrix if you like\n",
    "#     disp1 = plot_confusion_matrix(clf, X_train, y_train,\n",
    "#                              display_labels=['YES','NO'],\n",
    "#                              cmap=plt.cm.Blues,\n",
    "#                              normalize=None)\n",
    "#     disp1.ax_.set_title('Confusion matrix')\n",
    "#     plt.show()\n",
    "    \n",
    "#     disp = plot_confusion_matrix(clf, X_test, y_test,\n",
    "#                              display_labels=['YES','NO'],\n",
    "#                              cmap=plt.cm.Blues,\n",
    "#                              normalize=None)\n",
    "#     disp.ax_.set_title('Confusion matrix')\n",
    "#     plt.show()\n",
    "    \n",
    "    # Measure training accuracy and score\n",
    "    train_scores.append(round(clf.score(X_train, y_train), 3))\n",
    "    #print(\"The Training Score: \", clf.score(X_train, y_train) )\n",
    "    print(n+\" training score done!\")\n",
    "    \n",
    "    # Measure test accuracy and score\n",
    "    test_scores.append(round(clf.score(X_test, y_test), 3))\n",
    "    accuracy_scores.append(round(accuracy_score(y_test, clf.predict(X_test)), 3))\n",
    "    test_f1score.append(round(f1_score(y_test, clf.predict(X_test)),3))\n",
    "    #print(\"The Testing Score: \", clf.score(X_test, y_test) )\n",
    "    #print(\"The Accuracy Score: \", accuracy_score(y_test, clf.predict(X_test)))\n",
    "    #print(\"Test F1 Score: \",f1_score(y_test,clf.predict(X_test)))\n",
    "    print(n+\" testing score done!\")\n",
    "    print(\"-------------------------------------------------------\")\n",
    "    print(\"  \")\n",
    "    i = i+1\n",
    "print(\"Names: \", clf_names)\n",
    "print(\"Predict Sum: \", predict_sums)\n",
    "print(\"Train Scores: \", train_scores)\n",
    "print(\"Test Scores: \", test_scores)\n",
    "print(\"Accuracy Scores: \", accuracy_scores)\n",
    "print(\"Test F1 Scores: \", test_f1score)"
   ]
  },
  {
   "cell_type": "code",
   "execution_count": 33,
   "metadata": {},
   "outputs": [
    {
     "data": {
      "image/png": "[encoded data removed]",
      "text/plain": [
       "<Figure size 720x1440 with 3 Axes>"
      ]
     },
     "metadata": {
      "needs_background": "light"
     },
     "output_type": "display_data"
    }
   ],
   "source": [
    "#Plot results\n",
    "#plt.title('Accuracy Training Score')\n",
    "plt.rcParams['figure.figsize'] = (10.0, 20.0)\n",
    "figs, ax = plt.subplots(3)\n",
    "#plt.grid()\n",
    "ax[0].scatter(x =  train_scores,y = clf_names)\n",
    "ax[0].set_title(\"Train Accuracy\")\n",
    "ax[0].grid(True, color = 'g')\n",
    "#plt.title('Test F1 Score')\n",
    "#plt.grid()\n",
    "\n",
    "ax[1].scatter(test_scores,clf_names)\n",
    "ax[1].set_title(\"Test Accuracy\")\n",
    "ax[1].grid(True, color = 'g')\n",
    "#plt.legend(loc = \"lower left\")\n",
    "\n",
    "ax[2].scatter(test_f1score,clf_names)\n",
    "ax[2].set_title(\"Test F1 Score\")\n",
    "ax[2].grid(True, color = 'g')\n",
    "#plt.grid(True, color = 'g')\n",
    "\n",
    "plt.show()\n",
    "\n",
    "# print(\"   \")\n",
    "# print(\"Actual number of loans given out: \", y_test.sum())\n",
    "# plt.title('Loan eligibility prediction plot')\n",
    "# plt.grid()\n",
    "# plt.scatter(predict_sums,clf_names , color = \"g\")\n",
    "#plt.legend(loc = \"lower left\")\n",
    "# plt.title('Test F1 Score')\n",
    "# plt.grid()\n",
    "# plt.scatter(test_f1score,clf_names, label = \"Test F1 Score\")\n",
    "plt.show()"
   ]
  },
  {
   "cell_type": "markdown",
   "metadata": {},
   "source": [
    "From the graphs above, one would notice overfitting on the Random Forest classifier despite not showing the best test accuracy. The Bagging Clasifier appears to have the best test accuracy and f1 scores. This is followed by the QDA, Decision Tree, Gaussian Process and Nearest Neighbours.  \n",
    "\n",
    "One can combine the  few best multiple models into a single model to obtain a hopefully better accuracy. The models are combined with specific weights. It is therefore necesary to iterate through various combinations of the weights, and obtain the maximum accuracy score. \n"
   ]
  },
  {
   "cell_type": "code",
   "execution_count": 71,
   "metadata": {},
   "outputs": [
    {
     "name": "stdout",
     "output_type": "stream",
     "text": [
      "The accuracy for Bagging Classifier and QDA is: 0.808\n"
     ]
    }
   ],
   "source": [
    "#use the VotingClassifier to combine the models: take Bagging Classifier and QDA\n",
    "combine_score1 = []\n",
    "for i in range(20):\n",
    "    for j in range(20):\n",
    "                ensemble=VotingClassifier(estimators=[(\"BaggingClassifier\", BaggingClassifier(base_estimator=SVC(), n_estimators=10, random_state=0)), (\"QDA\", QuadraticDiscriminantAnalysis())], \n",
    "                       voting='hard', weights=[i,j]).fit(X_train, y_train)\n",
    "                combine_score1.append(ensemble.score(X_test, y_test))\n",
    "print('The accuracy for Bagging Classifier and QDA is:',round(max(combine_score1),3))"
   ]
  },
  {
   "cell_type": "markdown",
   "metadata": {},
   "source": [
    "This accuracy score is less than using the Bagging Classifier alone (with score 0.875). Let's give three models a try"
   ]
  },
  {
   "cell_type": "code",
   "execution_count": 70,
   "metadata": {},
   "outputs": [
    {
     "name": "stdout",
     "output_type": "stream",
     "text": [
      "The accuracy for Bagging Classifier, QDA and Decision Tree is: 0.85\n"
     ]
    }
   ],
   "source": [
    "#use the VotingClassifier to combine the models: take Bagging Classifier, QDA and Decision Tree\n",
    "combine_score = []\n",
    "for i in range(20):\n",
    "    for j in range(20):\n",
    "        for k in range(20):\n",
    "                ensemble=VotingClassifier(estimators=[(\"BaggingClassifier\", BaggingClassifier(base_estimator=SVC(), n_estimators=10, random_state=0)), (\"QDA\", QuadraticDiscriminantAnalysis()), (\"Decision Tree\", DecisionTreeClassifier(max_depth=3))], \n",
    "                       voting='hard', weights=[i,j,k]).fit(X_train, y_train)\n",
    "                combine_score.append(ensemble.score(X_test, y_test))\n",
    "print('The accuracy for Bagging Classifier, QDA and Decision Tree is:',round(max(combine_score),3))"
   ]
  },
  {
   "cell_type": "markdown",
   "metadata": {},
   "source": [
    "Combining three models still does not work better than the Bagging Classifier. How about four models"
   ]
  }
 ],
 "metadata": {
  "kernelspec": {
   "display_name": "Python 3",
   "language": "python",
   "name": "python3"
  }
 },
 "nbformat": 4,
 "nbformat_minor": 4
}
